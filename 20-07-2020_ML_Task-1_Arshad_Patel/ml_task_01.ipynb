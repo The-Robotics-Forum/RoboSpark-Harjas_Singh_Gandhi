{
 "cells": [
  {
   "cell_type": "markdown",
   "metadata": {
    "collapsed": true,
    "pycharm": {
     "name": "#%% md\n"
    }
   },
   "source": [
    "Importing Libraries"
   ]
  },
  {
   "cell_type": "code",
   "execution_count": 1,
   "metadata": {
    "pycharm": {
     "name": "#%%\n"
    }
   },
   "outputs": [],
   "source": [
    "import pandas as pd\n",
    "from sklearn.model_selection import train_test_split"
   ]
  },
  {
   "cell_type": "markdown",
   "source": [
    "Importing Data"
   ],
   "metadata": {
    "collapsed": false,
    "pycharm": {
     "name": "#%% md\n"
    }
   }
  },
  {
   "cell_type": "code",
   "execution_count": 2,
   "metadata": {
    "pycharm": {
     "name": "#%%\n"
    }
   },
   "outputs": [],
   "source": [
    "df = pd.read_csv(\"dataset/house_data.csv\")"
   ]
  },
  {
   "cell_type": "code",
   "execution_count": 3,
   "metadata": {
    "pycharm": {
     "name": "#%%\n"
    }
   },
   "outputs": [
    {
     "data": {
      "text/plain": "                 id             date     price  bedrooms  bathrooms  \\\n0      7.129301e+09  20141013T000000  221900.0       3.0       1.00   \n1      6.414100e+09  20141209T000000  538000.0       3.0       2.25   \n2      5.631500e+09  20150225T000000  180000.0       2.0       1.00   \n3      2.487201e+09  20141209T000000  604000.0       4.0       3.00   \n4      1.954401e+09  20150218T000000  510000.0       3.0       2.00   \n...             ...              ...       ...       ...        ...   \n21602           NaN              NaN       NaN       NaN        NaN   \n21603           NaN              NaN       NaN       NaN        NaN   \n21604           NaN              NaN       NaN       NaN        NaN   \n21605           NaN              NaN       NaN       NaN        NaN   \n21606           NaN              NaN       NaN       NaN        NaN   \n\n       sqft_living  sqft_lot  floors  \n0           1180.0    5650.0     1.0  \n1           2570.0    7242.0     2.0  \n2            770.0   10000.0     1.0  \n3           1960.0    5000.0     1.0  \n4           1680.0    8080.0     1.0  \n...            ...       ...     ...  \n21602          NaN       NaN     NaN  \n21603          NaN       NaN     NaN  \n21604          NaN       NaN     NaN  \n21605          NaN       NaN     NaN  \n21606          NaN       NaN     NaN  \n\n[21607 rows x 8 columns]",
      "text/html": "<div>\n<style scoped>\n    .dataframe tbody tr th:only-of-type {\n        vertical-align: middle;\n    }\n\n    .dataframe tbody tr th {\n        vertical-align: top;\n    }\n\n    .dataframe thead th {\n        text-align: right;\n    }\n</style>\n<table border=\"1\" class=\"dataframe\">\n  <thead>\n    <tr style=\"text-align: right;\">\n      <th></th>\n      <th>id</th>\n      <th>date</th>\n      <th>price</th>\n      <th>bedrooms</th>\n      <th>bathrooms</th>\n      <th>sqft_living</th>\n      <th>sqft_lot</th>\n      <th>floors</th>\n    </tr>\n  </thead>\n  <tbody>\n    <tr>\n      <th>0</th>\n      <td>7.129301e+09</td>\n      <td>20141013T000000</td>\n      <td>221900.0</td>\n      <td>3.0</td>\n      <td>1.00</td>\n      <td>1180.0</td>\n      <td>5650.0</td>\n      <td>1.0</td>\n    </tr>\n    <tr>\n      <th>1</th>\n      <td>6.414100e+09</td>\n      <td>20141209T000000</td>\n      <td>538000.0</td>\n      <td>3.0</td>\n      <td>2.25</td>\n      <td>2570.0</td>\n      <td>7242.0</td>\n      <td>2.0</td>\n    </tr>\n    <tr>\n      <th>2</th>\n      <td>5.631500e+09</td>\n      <td>20150225T000000</td>\n      <td>180000.0</td>\n      <td>2.0</td>\n      <td>1.00</td>\n      <td>770.0</td>\n      <td>10000.0</td>\n      <td>1.0</td>\n    </tr>\n    <tr>\n      <th>3</th>\n      <td>2.487201e+09</td>\n      <td>20141209T000000</td>\n      <td>604000.0</td>\n      <td>4.0</td>\n      <td>3.00</td>\n      <td>1960.0</td>\n      <td>5000.0</td>\n      <td>1.0</td>\n    </tr>\n    <tr>\n      <th>4</th>\n      <td>1.954401e+09</td>\n      <td>20150218T000000</td>\n      <td>510000.0</td>\n      <td>3.0</td>\n      <td>2.00</td>\n      <td>1680.0</td>\n      <td>8080.0</td>\n      <td>1.0</td>\n    </tr>\n    <tr>\n      <th>...</th>\n      <td>...</td>\n      <td>...</td>\n      <td>...</td>\n      <td>...</td>\n      <td>...</td>\n      <td>...</td>\n      <td>...</td>\n      <td>...</td>\n    </tr>\n    <tr>\n      <th>21602</th>\n      <td>NaN</td>\n      <td>NaN</td>\n      <td>NaN</td>\n      <td>NaN</td>\n      <td>NaN</td>\n      <td>NaN</td>\n      <td>NaN</td>\n      <td>NaN</td>\n    </tr>\n    <tr>\n      <th>21603</th>\n      <td>NaN</td>\n      <td>NaN</td>\n      <td>NaN</td>\n      <td>NaN</td>\n      <td>NaN</td>\n      <td>NaN</td>\n      <td>NaN</td>\n      <td>NaN</td>\n    </tr>\n    <tr>\n      <th>21604</th>\n      <td>NaN</td>\n      <td>NaN</td>\n      <td>NaN</td>\n      <td>NaN</td>\n      <td>NaN</td>\n      <td>NaN</td>\n      <td>NaN</td>\n      <td>NaN</td>\n    </tr>\n    <tr>\n      <th>21605</th>\n      <td>NaN</td>\n      <td>NaN</td>\n      <td>NaN</td>\n      <td>NaN</td>\n      <td>NaN</td>\n      <td>NaN</td>\n      <td>NaN</td>\n      <td>NaN</td>\n    </tr>\n    <tr>\n      <th>21606</th>\n      <td>NaN</td>\n      <td>NaN</td>\n      <td>NaN</td>\n      <td>NaN</td>\n      <td>NaN</td>\n      <td>NaN</td>\n      <td>NaN</td>\n      <td>NaN</td>\n    </tr>\n  </tbody>\n</table>\n<p>21607 rows × 8 columns</p>\n</div>"
     },
     "execution_count": 3,
     "metadata": {},
     "output_type": "execute_result"
    }
   ],
   "source": [
    "df"
   ]
  },
  {
   "cell_type": "markdown",
   "metadata": {
    "pycharm": {
     "name": "#%% md\n"
    }
   },
   "source": [
    "Information about data"
   ]
  },
  {
   "cell_type": "code",
   "execution_count": 4,
   "metadata": {
    "pycharm": {
     "name": "#%%\n"
    }
   },
   "outputs": [],
   "source": [
    "rows, columns = df.shape"
   ]
  },
  {
   "cell_type": "code",
   "execution_count": 5,
   "metadata": {
    "pycharm": {
     "name": "#%%\n"
    }
   },
   "outputs": [
    {
     "data": {
      "text/plain": "21607"
     },
     "execution_count": 5,
     "metadata": {},
     "output_type": "execute_result"
    }
   ],
   "source": [
    "rows"
   ]
  },
  {
   "cell_type": "code",
   "execution_count": 6,
   "metadata": {
    "pycharm": {
     "name": "#%%\n"
    }
   },
   "outputs": [
    {
     "data": {
      "text/plain": "8"
     },
     "execution_count": 6,
     "metadata": {},
     "output_type": "execute_result"
    }
   ],
   "source": [
    "columns"
   ]
  },
  {
   "cell_type": "code",
   "execution_count": 7,
   "metadata": {
    "pycharm": {
     "name": "#%%\n"
    }
   },
   "outputs": [
    {
     "data": {
      "text/plain": "             id             date     price  bedrooms  bathrooms  sqft_living  \\\n0  7.129301e+09  20141013T000000  221900.0       3.0       1.00       1180.0   \n1  6.414100e+09  20141209T000000  538000.0       3.0       2.25       2570.0   \n2  5.631500e+09  20150225T000000  180000.0       2.0       1.00        770.0   \n3  2.487201e+09  20141209T000000  604000.0       4.0       3.00       1960.0   \n4  1.954401e+09  20150218T000000  510000.0       3.0       2.00       1680.0   \n\n   sqft_lot  floors  \n0    5650.0     1.0  \n1    7242.0     2.0  \n2   10000.0     1.0  \n3    5000.0     1.0  \n4    8080.0     1.0  ",
      "text/html": "<div>\n<style scoped>\n    .dataframe tbody tr th:only-of-type {\n        vertical-align: middle;\n    }\n\n    .dataframe tbody tr th {\n        vertical-align: top;\n    }\n\n    .dataframe thead th {\n        text-align: right;\n    }\n</style>\n<table border=\"1\" class=\"dataframe\">\n  <thead>\n    <tr style=\"text-align: right;\">\n      <th></th>\n      <th>id</th>\n      <th>date</th>\n      <th>price</th>\n      <th>bedrooms</th>\n      <th>bathrooms</th>\n      <th>sqft_living</th>\n      <th>sqft_lot</th>\n      <th>floors</th>\n    </tr>\n  </thead>\n  <tbody>\n    <tr>\n      <th>0</th>\n      <td>7.129301e+09</td>\n      <td>20141013T000000</td>\n      <td>221900.0</td>\n      <td>3.0</td>\n      <td>1.00</td>\n      <td>1180.0</td>\n      <td>5650.0</td>\n      <td>1.0</td>\n    </tr>\n    <tr>\n      <th>1</th>\n      <td>6.414100e+09</td>\n      <td>20141209T000000</td>\n      <td>538000.0</td>\n      <td>3.0</td>\n      <td>2.25</td>\n      <td>2570.0</td>\n      <td>7242.0</td>\n      <td>2.0</td>\n    </tr>\n    <tr>\n      <th>2</th>\n      <td>5.631500e+09</td>\n      <td>20150225T000000</td>\n      <td>180000.0</td>\n      <td>2.0</td>\n      <td>1.00</td>\n      <td>770.0</td>\n      <td>10000.0</td>\n      <td>1.0</td>\n    </tr>\n    <tr>\n      <th>3</th>\n      <td>2.487201e+09</td>\n      <td>20141209T000000</td>\n      <td>604000.0</td>\n      <td>4.0</td>\n      <td>3.00</td>\n      <td>1960.0</td>\n      <td>5000.0</td>\n      <td>1.0</td>\n    </tr>\n    <tr>\n      <th>4</th>\n      <td>1.954401e+09</td>\n      <td>20150218T000000</td>\n      <td>510000.0</td>\n      <td>3.0</td>\n      <td>2.00</td>\n      <td>1680.0</td>\n      <td>8080.0</td>\n      <td>1.0</td>\n    </tr>\n  </tbody>\n</table>\n</div>"
     },
     "execution_count": 7,
     "metadata": {},
     "output_type": "execute_result"
    }
   ],
   "source": [
    "df.head()"
   ]
  },
  {
   "cell_type": "code",
   "execution_count": 8,
   "metadata": {
    "pycharm": {
     "name": "#%%\n"
    }
   },
   "outputs": [
    {
     "data": {
      "text/plain": "       id date  price  bedrooms  bathrooms  sqft_living  sqft_lot  floors\n21602 NaN  NaN    NaN       NaN        NaN          NaN       NaN     NaN\n21603 NaN  NaN    NaN       NaN        NaN          NaN       NaN     NaN\n21604 NaN  NaN    NaN       NaN        NaN          NaN       NaN     NaN\n21605 NaN  NaN    NaN       NaN        NaN          NaN       NaN     NaN\n21606 NaN  NaN    NaN       NaN        NaN          NaN       NaN     NaN",
      "text/html": "<div>\n<style scoped>\n    .dataframe tbody tr th:only-of-type {\n        vertical-align: middle;\n    }\n\n    .dataframe tbody tr th {\n        vertical-align: top;\n    }\n\n    .dataframe thead th {\n        text-align: right;\n    }\n</style>\n<table border=\"1\" class=\"dataframe\">\n  <thead>\n    <tr style=\"text-align: right;\">\n      <th></th>\n      <th>id</th>\n      <th>date</th>\n      <th>price</th>\n      <th>bedrooms</th>\n      <th>bathrooms</th>\n      <th>sqft_living</th>\n      <th>sqft_lot</th>\n      <th>floors</th>\n    </tr>\n  </thead>\n  <tbody>\n    <tr>\n      <th>21602</th>\n      <td>NaN</td>\n      <td>NaN</td>\n      <td>NaN</td>\n      <td>NaN</td>\n      <td>NaN</td>\n      <td>NaN</td>\n      <td>NaN</td>\n      <td>NaN</td>\n    </tr>\n    <tr>\n      <th>21603</th>\n      <td>NaN</td>\n      <td>NaN</td>\n      <td>NaN</td>\n      <td>NaN</td>\n      <td>NaN</td>\n      <td>NaN</td>\n      <td>NaN</td>\n      <td>NaN</td>\n    </tr>\n    <tr>\n      <th>21604</th>\n      <td>NaN</td>\n      <td>NaN</td>\n      <td>NaN</td>\n      <td>NaN</td>\n      <td>NaN</td>\n      <td>NaN</td>\n      <td>NaN</td>\n      <td>NaN</td>\n    </tr>\n    <tr>\n      <th>21605</th>\n      <td>NaN</td>\n      <td>NaN</td>\n      <td>NaN</td>\n      <td>NaN</td>\n      <td>NaN</td>\n      <td>NaN</td>\n      <td>NaN</td>\n      <td>NaN</td>\n    </tr>\n    <tr>\n      <th>21606</th>\n      <td>NaN</td>\n      <td>NaN</td>\n      <td>NaN</td>\n      <td>NaN</td>\n      <td>NaN</td>\n      <td>NaN</td>\n      <td>NaN</td>\n      <td>NaN</td>\n    </tr>\n  </tbody>\n</table>\n</div>"
     },
     "execution_count": 8,
     "metadata": {},
     "output_type": "execute_result"
    }
   ],
   "source": [
    "df.tail()"
   ]
  },
  {
   "cell_type": "code",
   "execution_count": 9,
   "metadata": {
    "pycharm": {
     "name": "#%%\n"
    }
   },
   "outputs": [
    {
     "data": {
      "text/plain": "                 id         price   bedrooms  bathrooms  sqft_living  \\\ncount  9.900000e+01  9.900000e+01  99.000000  99.000000    99.000000   \nmean   4.664620e+09  5.200763e+05   3.404040   1.989899  2086.383838   \nstd    2.935212e+09  3.061939e+05   0.794358   0.729236   864.592421   \nmin    1.600040e+07  1.530000e+05   2.000000   1.000000   770.000000   \n25%    1.914950e+09  3.070000e+05   3.000000   1.500000  1410.000000   \n50%    4.036801e+09  4.300000e+05   3.000000   2.000000  1900.000000   \n75%    7.337325e+09  6.562500e+05   4.000000   2.500000  2570.000000   \nmax    9.822700e+09  2.000000e+06   5.000000   4.500000  5420.000000   \n\n            sqft_lot     floors  \ncount      99.000000  99.000000  \nmean    11478.818182   1.464646  \nstd     14655.249813   0.511363  \nmin      1044.000000   1.000000  \n25%      5000.000000   1.000000  \n50%      6720.000000   1.500000  \n75%      9823.000000   2.000000  \nmax    101930.000000   3.000000  ",
      "text/html": "<div>\n<style scoped>\n    .dataframe tbody tr th:only-of-type {\n        vertical-align: middle;\n    }\n\n    .dataframe tbody tr th {\n        vertical-align: top;\n    }\n\n    .dataframe thead th {\n        text-align: right;\n    }\n</style>\n<table border=\"1\" class=\"dataframe\">\n  <thead>\n    <tr style=\"text-align: right;\">\n      <th></th>\n      <th>id</th>\n      <th>price</th>\n      <th>bedrooms</th>\n      <th>bathrooms</th>\n      <th>sqft_living</th>\n      <th>sqft_lot</th>\n      <th>floors</th>\n    </tr>\n  </thead>\n  <tbody>\n    <tr>\n      <th>count</th>\n      <td>9.900000e+01</td>\n      <td>9.900000e+01</td>\n      <td>99.000000</td>\n      <td>99.000000</td>\n      <td>99.000000</td>\n      <td>99.000000</td>\n      <td>99.000000</td>\n    </tr>\n    <tr>\n      <th>mean</th>\n      <td>4.664620e+09</td>\n      <td>5.200763e+05</td>\n      <td>3.404040</td>\n      <td>1.989899</td>\n      <td>2086.383838</td>\n      <td>11478.818182</td>\n      <td>1.464646</td>\n    </tr>\n    <tr>\n      <th>std</th>\n      <td>2.935212e+09</td>\n      <td>3.061939e+05</td>\n      <td>0.794358</td>\n      <td>0.729236</td>\n      <td>864.592421</td>\n      <td>14655.249813</td>\n      <td>0.511363</td>\n    </tr>\n    <tr>\n      <th>min</th>\n      <td>1.600040e+07</td>\n      <td>1.530000e+05</td>\n      <td>2.000000</td>\n      <td>1.000000</td>\n      <td>770.000000</td>\n      <td>1044.000000</td>\n      <td>1.000000</td>\n    </tr>\n    <tr>\n      <th>25%</th>\n      <td>1.914950e+09</td>\n      <td>3.070000e+05</td>\n      <td>3.000000</td>\n      <td>1.500000</td>\n      <td>1410.000000</td>\n      <td>5000.000000</td>\n      <td>1.000000</td>\n    </tr>\n    <tr>\n      <th>50%</th>\n      <td>4.036801e+09</td>\n      <td>4.300000e+05</td>\n      <td>3.000000</td>\n      <td>2.000000</td>\n      <td>1900.000000</td>\n      <td>6720.000000</td>\n      <td>1.500000</td>\n    </tr>\n    <tr>\n      <th>75%</th>\n      <td>7.337325e+09</td>\n      <td>6.562500e+05</td>\n      <td>4.000000</td>\n      <td>2.500000</td>\n      <td>2570.000000</td>\n      <td>9823.000000</td>\n      <td>2.000000</td>\n    </tr>\n    <tr>\n      <th>max</th>\n      <td>9.822700e+09</td>\n      <td>2.000000e+06</td>\n      <td>5.000000</td>\n      <td>4.500000</td>\n      <td>5420.000000</td>\n      <td>101930.000000</td>\n      <td>3.000000</td>\n    </tr>\n  </tbody>\n</table>\n</div>"
     },
     "execution_count": 9,
     "metadata": {},
     "output_type": "execute_result"
    }
   ],
   "source": [
    "df.describe()"
   ]
  },
  {
   "cell_type": "code",
   "execution_count": 10,
   "metadata": {
    "pycharm": {
     "name": "#%%\n"
    }
   },
   "outputs": [
    {
     "name": "stdout",
     "output_type": "stream",
     "text": [
      "<class 'pandas.core.frame.DataFrame'>\n",
      "RangeIndex: 21607 entries, 0 to 21606\n",
      "Data columns (total 8 columns):\n",
      " #   Column       Non-Null Count  Dtype  \n",
      "---  ------       --------------  -----  \n",
      " 0   id           99 non-null     float64\n",
      " 1   date         99 non-null     object \n",
      " 2   price        99 non-null     float64\n",
      " 3   bedrooms     99 non-null     float64\n",
      " 4   bathrooms    99 non-null     float64\n",
      " 5   sqft_living  99 non-null     float64\n",
      " 6   sqft_lot     99 non-null     float64\n",
      " 7   floors       99 non-null     float64\n",
      "dtypes: float64(7), object(1)\n",
      "memory usage: 1.3+ MB\n"
     ]
    }
   ],
   "source": [
    "df.info()"
   ]
  },
  {
   "cell_type": "markdown",
   "source": [
    "Renaming Columns"
   ],
   "metadata": {
    "collapsed": false,
    "pycharm": {
     "name": "#%% md\n"
    }
   }
  },
  {
   "cell_type": "code",
   "execution_count": 11,
   "metadata": {
    "pycharm": {
     "name": "#%%\n"
    }
   },
   "outputs": [
    {
     "data": {
      "text/plain": "Index(['id', 'date', 'price', 'bedrooms', 'bathrooms', 'sqft_living',\n       'sqft_lot', 'floors'],\n      dtype='object')"
     },
     "execution_count": 11,
     "metadata": {},
     "output_type": "execute_result"
    }
   ],
   "source": [
    "df.columns"
   ]
  },
  {
   "cell_type": "code",
   "execution_count": 12,
   "metadata": {
    "pycharm": {
     "name": "#%%\n"
    }
   },
   "outputs": [],
   "source": [
    "df.rename(columns = {'bedrooms':'no_of_bedrooms','bathrooms':'no_of_bathrooms','floors':'no_of_floors'}, inplace = True)"
   ]
  },
  {
   "cell_type": "code",
   "execution_count": 13,
   "metadata": {
    "pycharm": {
     "name": "#%%\n"
    }
   },
   "outputs": [
    {
     "data": {
      "text/plain": "Index(['id', 'date', 'price', 'no_of_bedrooms', 'no_of_bathrooms',\n       'sqft_living', 'sqft_lot', 'no_of_floors'],\n      dtype='object')"
     },
     "execution_count": 13,
     "metadata": {},
     "output_type": "execute_result"
    }
   ],
   "source": [
    "df.columns"
   ]
  },
  {
   "cell_type": "code",
   "execution_count": 14,
   "metadata": {
    "pycharm": {
     "name": "#%%\n"
    }
   },
   "outputs": [
    {
     "data": {
      "text/plain": "          price  sqft_living  sqft_lot\n0      221900.0       1180.0    5650.0\n1      538000.0       2570.0    7242.0\n2      180000.0        770.0   10000.0\n3      604000.0       1960.0    5000.0\n4      510000.0       1680.0    8080.0\n...         ...          ...       ...\n21602       NaN          NaN       NaN\n21603       NaN          NaN       NaN\n21604       NaN          NaN       NaN\n21605       NaN          NaN       NaN\n21606       NaN          NaN       NaN\n\n[21607 rows x 3 columns]",
      "text/html": "<div>\n<style scoped>\n    .dataframe tbody tr th:only-of-type {\n        vertical-align: middle;\n    }\n\n    .dataframe tbody tr th {\n        vertical-align: top;\n    }\n\n    .dataframe thead th {\n        text-align: right;\n    }\n</style>\n<table border=\"1\" class=\"dataframe\">\n  <thead>\n    <tr style=\"text-align: right;\">\n      <th></th>\n      <th>price</th>\n      <th>sqft_living</th>\n      <th>sqft_lot</th>\n    </tr>\n  </thead>\n  <tbody>\n    <tr>\n      <th>0</th>\n      <td>221900.0</td>\n      <td>1180.0</td>\n      <td>5650.0</td>\n    </tr>\n    <tr>\n      <th>1</th>\n      <td>538000.0</td>\n      <td>2570.0</td>\n      <td>7242.0</td>\n    </tr>\n    <tr>\n      <th>2</th>\n      <td>180000.0</td>\n      <td>770.0</td>\n      <td>10000.0</td>\n    </tr>\n    <tr>\n      <th>3</th>\n      <td>604000.0</td>\n      <td>1960.0</td>\n      <td>5000.0</td>\n    </tr>\n    <tr>\n      <th>4</th>\n      <td>510000.0</td>\n      <td>1680.0</td>\n      <td>8080.0</td>\n    </tr>\n    <tr>\n      <th>...</th>\n      <td>...</td>\n      <td>...</td>\n      <td>...</td>\n    </tr>\n    <tr>\n      <th>21602</th>\n      <td>NaN</td>\n      <td>NaN</td>\n      <td>NaN</td>\n    </tr>\n    <tr>\n      <th>21603</th>\n      <td>NaN</td>\n      <td>NaN</td>\n      <td>NaN</td>\n    </tr>\n    <tr>\n      <th>21604</th>\n      <td>NaN</td>\n      <td>NaN</td>\n      <td>NaN</td>\n    </tr>\n    <tr>\n      <th>21605</th>\n      <td>NaN</td>\n      <td>NaN</td>\n      <td>NaN</td>\n    </tr>\n    <tr>\n      <th>21606</th>\n      <td>NaN</td>\n      <td>NaN</td>\n      <td>NaN</td>\n    </tr>\n  </tbody>\n</table>\n<p>21607 rows × 3 columns</p>\n</div>"
     },
     "execution_count": 14,
     "metadata": {},
     "output_type": "execute_result"
    }
   ],
   "source": [
    "df[['price', 'sqft_living', 'sqft_lot']]"
   ]
  },
  {
   "cell_type": "markdown",
   "source": [
    "Removing NaN values"
   ],
   "metadata": {
    "collapsed": false,
    "pycharm": {
     "name": "#%% md\n"
    }
   }
  },
  {
   "cell_type": "code",
   "execution_count": 15,
   "metadata": {
    "pycharm": {
     "name": "#%%\n"
    }
   },
   "outputs": [
    {
     "data": {
      "text/plain": "id                 21508\ndate               21508\nprice              21508\nno_of_bedrooms     21508\nno_of_bathrooms    21508\nsqft_living        21508\nsqft_lot           21508\nno_of_floors       21508\ndtype: int64"
     },
     "execution_count": 15,
     "metadata": {},
     "output_type": "execute_result"
    }
   ],
   "source": [
    "df.isna().sum()"
   ]
  },
  {
   "cell_type": "code",
   "execution_count": 16,
   "metadata": {
    "pycharm": {
     "name": "#%%\n"
    }
   },
   "outputs": [],
   "source": [
    "# Removing rows with all values as NaN\n",
    "df = df.dropna(how='all')"
   ]
  },
  {
   "cell_type": "code",
   "execution_count": 17,
   "metadata": {
    "pycharm": {
     "name": "#%%\n"
    }
   },
   "outputs": [
    {
     "data": {
      "text/plain": "id                 0\ndate               0\nprice              0\nno_of_bedrooms     0\nno_of_bathrooms    0\nsqft_living        0\nsqft_lot           0\nno_of_floors       0\ndtype: int64"
     },
     "execution_count": 17,
     "metadata": {},
     "output_type": "execute_result"
    }
   ],
   "source": [
    "df.isna().sum()"
   ]
  },
  {
   "cell_type": "markdown",
   "source": [
    "Here no further NaN values are found\n",
    "therefore proceeding\n",
    "If further NaN values are found code in Below cell could be used."
   ],
   "metadata": {
    "collapsed": false,
    "pycharm": {
     "name": "#%% md\n"
    }
   }
  },
  {
   "cell_type": "code",
   "execution_count": 18,
   "metadata": {
    "pycharm": {
     "name": "#%%\n"
    }
   },
   "outputs": [
    {
     "data": {
      "text/plain": "\"\\nfrom sklearn.impute import SimpleImputer\\nimport numpy as np\\ntemp =pd.DataFrame(df)\\n#splitting numerical and categorical columns of temp\\nnum_temp_cols=[]\\ncat_temp_cols=[]\\nfor i in temp.columns:\\n    if temp[i].dtype== object:\\n        cat_temp_cols.append(i)\\n    else:\\n        num_temp_cols.append(i)\\n#Handling missing numerical data of temp\\nimputer = SimpleImputer(missing_values = np.nan , strategy = 'mean')\\nimputer = imputer.fit(temp[num_temp_cols])\\ntemp_num_mean=imputer.transform(temp[num_temp_cols])\\ntemp1 = pd.DataFrame(temp_num_mean,columns=num_temp_cols)\\ntemp2 = pd.DataFrame(temp[cat_temp_cols],columns=cat_temp_cols)\\ndf = pd.concat([temp1,temp2],axis=1)\\n#Replaces Nan by 0 in date column ONLY\\ndf['date'].replace(to_replace = np.nan, value = 0, inplace = True)\\n\""
     },
     "execution_count": 18,
     "metadata": {},
     "output_type": "execute_result"
    }
   ],
   "source": [
    "'''\n",
    "from sklearn.impute import SimpleImputer\n",
    "import numpy as np\n",
    "temp =pd.DataFrame(df)\n",
    "#splitting numerical and categorical columns of temp\n",
    "num_temp_cols=[]\n",
    "cat_temp_cols=[]\n",
    "for i in temp.columns:\n",
    "    if temp[i].dtype== object:\n",
    "        cat_temp_cols.append(i)\n",
    "    else:\n",
    "        num_temp_cols.append(i)\n",
    "#Handling missing numerical data of temp\n",
    "imputer = SimpleImputer(missing_values = np.nan , strategy = 'mean')\n",
    "imputer = imputer.fit(temp[num_temp_cols])\n",
    "temp_num_mean=imputer.transform(temp[num_temp_cols])\n",
    "temp1 = pd.DataFrame(temp_num_mean,columns=num_temp_cols)\n",
    "temp2 = pd.DataFrame(temp[cat_temp_cols],columns=cat_temp_cols)\n",
    "df = pd.concat([temp1,temp2],axis=1)\n",
    "#Replaces Nan by 0 in date column ONLY\n",
    "df['date'].replace(to_replace = np.nan, value = 0, inplace = True)\n",
    "'''"
   ]
  },
  {
   "cell_type": "code",
   "execution_count": 19,
   "metadata": {
    "pycharm": {
     "name": "#%%\n"
    }
   },
   "outputs": [
    {
     "data": {
      "text/plain": "              id             date     price  no_of_bedrooms  no_of_bathrooms  \\\n0   7.129301e+09  20141013T000000  221900.0             3.0             1.00   \n1   6.414100e+09  20141209T000000  538000.0             3.0             2.25   \n2   5.631500e+09  20150225T000000  180000.0             2.0             1.00   \n3   2.487201e+09  20141209T000000  604000.0             4.0             3.00   \n4   1.954401e+09  20150218T000000  510000.0             3.0             2.00   \n..           ...              ...       ...             ...              ...   \n94  6.021502e+09  20141223T000000  700000.0             3.0             1.50   \n95  1.483301e+09  20140908T000000  905000.0             4.0             2.50   \n96  3.422049e+09  20150330T000000  247500.0             3.0             1.75   \n97  1.099611e+09  20140912T000000  199000.0             4.0             1.50   \n98  7.220791e+08  20140711T000000  314000.0             3.0             1.75   \n\n    sqft_living  sqft_lot  no_of_floors  \n0        1180.0    5650.0           1.0  \n1        2570.0    7242.0           2.0  \n2         770.0   10000.0           1.0  \n3        1960.0    5000.0           1.0  \n4        1680.0    8080.0           1.0  \n..          ...       ...           ...  \n94       1580.0    5000.0           1.0  \n95       3300.0   10250.0           1.0  \n96       1960.0   15681.0           1.0  \n97       1160.0    6400.0           1.0  \n98       1810.0   41800.0           1.0  \n\n[99 rows x 8 columns]",
      "text/html": "<div>\n<style scoped>\n    .dataframe tbody tr th:only-of-type {\n        vertical-align: middle;\n    }\n\n    .dataframe tbody tr th {\n        vertical-align: top;\n    }\n\n    .dataframe thead th {\n        text-align: right;\n    }\n</style>\n<table border=\"1\" class=\"dataframe\">\n  <thead>\n    <tr style=\"text-align: right;\">\n      <th></th>\n      <th>id</th>\n      <th>date</th>\n      <th>price</th>\n      <th>no_of_bedrooms</th>\n      <th>no_of_bathrooms</th>\n      <th>sqft_living</th>\n      <th>sqft_lot</th>\n      <th>no_of_floors</th>\n    </tr>\n  </thead>\n  <tbody>\n    <tr>\n      <th>0</th>\n      <td>7.129301e+09</td>\n      <td>20141013T000000</td>\n      <td>221900.0</td>\n      <td>3.0</td>\n      <td>1.00</td>\n      <td>1180.0</td>\n      <td>5650.0</td>\n      <td>1.0</td>\n    </tr>\n    <tr>\n      <th>1</th>\n      <td>6.414100e+09</td>\n      <td>20141209T000000</td>\n      <td>538000.0</td>\n      <td>3.0</td>\n      <td>2.25</td>\n      <td>2570.0</td>\n      <td>7242.0</td>\n      <td>2.0</td>\n    </tr>\n    <tr>\n      <th>2</th>\n      <td>5.631500e+09</td>\n      <td>20150225T000000</td>\n      <td>180000.0</td>\n      <td>2.0</td>\n      <td>1.00</td>\n      <td>770.0</td>\n      <td>10000.0</td>\n      <td>1.0</td>\n    </tr>\n    <tr>\n      <th>3</th>\n      <td>2.487201e+09</td>\n      <td>20141209T000000</td>\n      <td>604000.0</td>\n      <td>4.0</td>\n      <td>3.00</td>\n      <td>1960.0</td>\n      <td>5000.0</td>\n      <td>1.0</td>\n    </tr>\n    <tr>\n      <th>4</th>\n      <td>1.954401e+09</td>\n      <td>20150218T000000</td>\n      <td>510000.0</td>\n      <td>3.0</td>\n      <td>2.00</td>\n      <td>1680.0</td>\n      <td>8080.0</td>\n      <td>1.0</td>\n    </tr>\n    <tr>\n      <th>...</th>\n      <td>...</td>\n      <td>...</td>\n      <td>...</td>\n      <td>...</td>\n      <td>...</td>\n      <td>...</td>\n      <td>...</td>\n      <td>...</td>\n    </tr>\n    <tr>\n      <th>94</th>\n      <td>6.021502e+09</td>\n      <td>20141223T000000</td>\n      <td>700000.0</td>\n      <td>3.0</td>\n      <td>1.50</td>\n      <td>1580.0</td>\n      <td>5000.0</td>\n      <td>1.0</td>\n    </tr>\n    <tr>\n      <th>95</th>\n      <td>1.483301e+09</td>\n      <td>20140908T000000</td>\n      <td>905000.0</td>\n      <td>4.0</td>\n      <td>2.50</td>\n      <td>3300.0</td>\n      <td>10250.0</td>\n      <td>1.0</td>\n    </tr>\n    <tr>\n      <th>96</th>\n      <td>3.422049e+09</td>\n      <td>20150330T000000</td>\n      <td>247500.0</td>\n      <td>3.0</td>\n      <td>1.75</td>\n      <td>1960.0</td>\n      <td>15681.0</td>\n      <td>1.0</td>\n    </tr>\n    <tr>\n      <th>97</th>\n      <td>1.099611e+09</td>\n      <td>20140912T000000</td>\n      <td>199000.0</td>\n      <td>4.0</td>\n      <td>1.50</td>\n      <td>1160.0</td>\n      <td>6400.0</td>\n      <td>1.0</td>\n    </tr>\n    <tr>\n      <th>98</th>\n      <td>7.220791e+08</td>\n      <td>20140711T000000</td>\n      <td>314000.0</td>\n      <td>3.0</td>\n      <td>1.75</td>\n      <td>1810.0</td>\n      <td>41800.0</td>\n      <td>1.0</td>\n    </tr>\n  </tbody>\n</table>\n<p>99 rows × 8 columns</p>\n</div>"
     },
     "execution_count": 19,
     "metadata": {},
     "output_type": "execute_result"
    }
   ],
   "source": [
    "df"
   ]
  },
  {
   "cell_type": "markdown",
   "source": [
    "Analysing Output"
   ],
   "metadata": {
    "collapsed": false,
    "pycharm": {
     "name": "#%% md\n"
    }
   }
  },
  {
   "cell_type": "code",
   "execution_count": 20,
   "metadata": {
    "pycharm": {
     "name": "#%%\n"
    }
   },
   "outputs": [
    {
     "data": {
      "text/plain": "2000000.0"
     },
     "execution_count": 20,
     "metadata": {},
     "output_type": "execute_result"
    }
   ],
   "source": [
    "df.price.max()"
   ]
  },
  {
   "cell_type": "code",
   "execution_count": 21,
   "metadata": {
    "pycharm": {
     "name": "#%%\n"
    }
   },
   "outputs": [
    {
     "data": {
      "text/plain": "153000.0"
     },
     "execution_count": 21,
     "metadata": {},
     "output_type": "execute_result"
    }
   ],
   "source": [
    "df.price.min()"
   ]
  },
  {
   "cell_type": "code",
   "execution_count": 22,
   "metadata": {
    "pycharm": {
     "name": "#%%\n"
    }
   },
   "outputs": [
    {
     "data": {
      "text/plain": "520076.31313131313"
     },
     "execution_count": 22,
     "metadata": {},
     "output_type": "execute_result"
    }
   ],
   "source": [
    "df.price.mean()"
   ]
  },
  {
   "cell_type": "code",
   "execution_count": 23,
   "metadata": {
    "pycharm": {
     "name": "#%%\n"
    }
   },
   "outputs": [
    {
     "data": {
      "text/plain": "id                 99\ndate               99\nprice              99\nno_of_bedrooms     99\nno_of_bathrooms    99\nsqft_living        99\nsqft_lot           99\nno_of_floors       99\ndtype: int64"
     },
     "execution_count": 23,
     "metadata": {},
     "output_type": "execute_result"
    }
   ],
   "source": [
    "df.count()"
   ]
  },
  {
   "cell_type": "code",
   "execution_count": 24,
   "metadata": {
    "pycharm": {
     "name": "#%%\n"
    }
   },
   "outputs": [
    {
     "data": {
      "text/plain": "99"
     },
     "execution_count": 24,
     "metadata": {},
     "output_type": "execute_result"
    }
   ],
   "source": [
    "df.price.count()"
   ]
  },
  {
   "cell_type": "code",
   "execution_count": 25,
   "metadata": {
    "pycharm": {
     "name": "#%%\n"
    }
   },
   "outputs": [
    {
     "data": {
      "text/plain": "360000.0     2\n650000.0     2\n430000.0     2\n252700.0     1\n356000.0     1\n            ..\n335000.0     1\n1230000.0    1\n549000.0     1\n438000.0     1\n180000.0     1\nName: price, Length: 96, dtype: int64"
     },
     "execution_count": 25,
     "metadata": {},
     "output_type": "execute_result"
    }
   ],
   "source": [
    "df.price.value_counts()"
   ]
  },
  {
   "cell_type": "code",
   "execution_count": 26,
   "metadata": {
    "pycharm": {
     "name": "#%%\n"
    }
   },
   "outputs": [],
   "source": [
    "unique = df.price.unique()"
   ]
  },
  {
   "cell_type": "code",
   "execution_count": 27,
   "metadata": {
    "pycharm": {
     "name": "#%%\n"
    }
   },
   "outputs": [
    {
     "data": {
      "text/plain": "96"
     },
     "execution_count": 27,
     "metadata": {},
     "output_type": "execute_result"
    }
   ],
   "source": [
    "len(unique)"
   ]
  },
  {
   "cell_type": "code",
   "execution_count": 28,
   "metadata": {
    "pycharm": {
     "name": "#%%\n"
    }
   },
   "outputs": [
    {
     "data": {
      "text/plain": "    no_of_bedrooms  no_of_bathrooms  sqft_living  sqft_lot  no_of_floors  \\\n21             3.0             2.75       3050.0   44867.0           1.0   \n\n        price  \n21  2000000.0  ",
      "text/html": "<div>\n<style scoped>\n    .dataframe tbody tr th:only-of-type {\n        vertical-align: middle;\n    }\n\n    .dataframe tbody tr th {\n        vertical-align: top;\n    }\n\n    .dataframe thead th {\n        text-align: right;\n    }\n</style>\n<table border=\"1\" class=\"dataframe\">\n  <thead>\n    <tr style=\"text-align: right;\">\n      <th></th>\n      <th>no_of_bedrooms</th>\n      <th>no_of_bathrooms</th>\n      <th>sqft_living</th>\n      <th>sqft_lot</th>\n      <th>no_of_floors</th>\n      <th>price</th>\n    </tr>\n  </thead>\n  <tbody>\n    <tr>\n      <th>21</th>\n      <td>3.0</td>\n      <td>2.75</td>\n      <td>3050.0</td>\n      <td>44867.0</td>\n      <td>1.0</td>\n      <td>2000000.0</td>\n    </tr>\n  </tbody>\n</table>\n</div>"
     },
     "execution_count": 28,
     "metadata": {},
     "output_type": "execute_result"
    }
   ],
   "source": [
    "df[df['price']==df['price'].max()][['no_of_bedrooms','no_of_bathrooms','sqft_living','sqft_lot','no_of_floors','price']]"
   ]
  },
  {
   "cell_type": "code",
   "execution_count": 29,
   "metadata": {
    "pycharm": {
     "name": "#%%\n"
    }
   },
   "outputs": [
    {
     "data": {
      "text/plain": "    no_of_bedrooms  no_of_bathrooms  sqft_living  sqft_lot  no_of_floors  \\\n92             3.0              1.0       1200.0   10500.0           1.0   \n\n       price  \n92  153000.0  ",
      "text/html": "<div>\n<style scoped>\n    .dataframe tbody tr th:only-of-type {\n        vertical-align: middle;\n    }\n\n    .dataframe tbody tr th {\n        vertical-align: top;\n    }\n\n    .dataframe thead th {\n        text-align: right;\n    }\n</style>\n<table border=\"1\" class=\"dataframe\">\n  <thead>\n    <tr style=\"text-align: right;\">\n      <th></th>\n      <th>no_of_bedrooms</th>\n      <th>no_of_bathrooms</th>\n      <th>sqft_living</th>\n      <th>sqft_lot</th>\n      <th>no_of_floors</th>\n      <th>price</th>\n    </tr>\n  </thead>\n  <tbody>\n    <tr>\n      <th>92</th>\n      <td>3.0</td>\n      <td>1.0</td>\n      <td>1200.0</td>\n      <td>10500.0</td>\n      <td>1.0</td>\n      <td>153000.0</td>\n    </tr>\n  </tbody>\n</table>\n</div>"
     },
     "execution_count": 29,
     "metadata": {},
     "output_type": "execute_result"
    }
   ],
   "source": [
    "df[df['price']==df['price'].min()][['no_of_bedrooms','no_of_bathrooms','sqft_living','sqft_lot','no_of_floors','price']]"
   ]
  },
  {
   "cell_type": "code",
   "execution_count": 30,
   "metadata": {
    "pycharm": {
     "name": "#%%\n"
    }
   },
   "outputs": [
    {
     "data": {
      "text/plain": "              id             date     price  no_of_bedrooms  no_of_bathrooms  \\\n0   7.129301e+09  20141013T000000  221900.0             3.0             1.00   \n1   6.414100e+09  20141209T000000  538000.0             3.0             2.25   \n2   5.631500e+09  20150225T000000  180000.0             2.0             1.00   \n3   2.487201e+09  20141209T000000  604000.0             4.0             3.00   \n4   1.954401e+09  20150218T000000  510000.0             3.0             2.00   \n..           ...              ...       ...             ...              ...   \n94  6.021502e+09  20141223T000000  700000.0             3.0             1.50   \n95  1.483301e+09  20140908T000000  905000.0             4.0             2.50   \n96  3.422049e+09  20150330T000000  247500.0             3.0             1.75   \n97  1.099611e+09  20140912T000000  199000.0             4.0             1.50   \n98  7.220791e+08  20140711T000000  314000.0             3.0             1.75   \n\n    sqft_living  sqft_lot  no_of_floors  \n0        1180.0    5650.0           1.0  \n1        2570.0    7242.0           2.0  \n2         770.0   10000.0           1.0  \n3        1960.0    5000.0           1.0  \n4        1680.0    8080.0           1.0  \n..          ...       ...           ...  \n94       1580.0    5000.0           1.0  \n95       3300.0   10250.0           1.0  \n96       1960.0   15681.0           1.0  \n97       1160.0    6400.0           1.0  \n98       1810.0   41800.0           1.0  \n\n[99 rows x 8 columns]",
      "text/html": "<div>\n<style scoped>\n    .dataframe tbody tr th:only-of-type {\n        vertical-align: middle;\n    }\n\n    .dataframe tbody tr th {\n        vertical-align: top;\n    }\n\n    .dataframe thead th {\n        text-align: right;\n    }\n</style>\n<table border=\"1\" class=\"dataframe\">\n  <thead>\n    <tr style=\"text-align: right;\">\n      <th></th>\n      <th>id</th>\n      <th>date</th>\n      <th>price</th>\n      <th>no_of_bedrooms</th>\n      <th>no_of_bathrooms</th>\n      <th>sqft_living</th>\n      <th>sqft_lot</th>\n      <th>no_of_floors</th>\n    </tr>\n  </thead>\n  <tbody>\n    <tr>\n      <th>0</th>\n      <td>7.129301e+09</td>\n      <td>20141013T000000</td>\n      <td>221900.0</td>\n      <td>3.0</td>\n      <td>1.00</td>\n      <td>1180.0</td>\n      <td>5650.0</td>\n      <td>1.0</td>\n    </tr>\n    <tr>\n      <th>1</th>\n      <td>6.414100e+09</td>\n      <td>20141209T000000</td>\n      <td>538000.0</td>\n      <td>3.0</td>\n      <td>2.25</td>\n      <td>2570.0</td>\n      <td>7242.0</td>\n      <td>2.0</td>\n    </tr>\n    <tr>\n      <th>2</th>\n      <td>5.631500e+09</td>\n      <td>20150225T000000</td>\n      <td>180000.0</td>\n      <td>2.0</td>\n      <td>1.00</td>\n      <td>770.0</td>\n      <td>10000.0</td>\n      <td>1.0</td>\n    </tr>\n    <tr>\n      <th>3</th>\n      <td>2.487201e+09</td>\n      <td>20141209T000000</td>\n      <td>604000.0</td>\n      <td>4.0</td>\n      <td>3.00</td>\n      <td>1960.0</td>\n      <td>5000.0</td>\n      <td>1.0</td>\n    </tr>\n    <tr>\n      <th>4</th>\n      <td>1.954401e+09</td>\n      <td>20150218T000000</td>\n      <td>510000.0</td>\n      <td>3.0</td>\n      <td>2.00</td>\n      <td>1680.0</td>\n      <td>8080.0</td>\n      <td>1.0</td>\n    </tr>\n    <tr>\n      <th>...</th>\n      <td>...</td>\n      <td>...</td>\n      <td>...</td>\n      <td>...</td>\n      <td>...</td>\n      <td>...</td>\n      <td>...</td>\n      <td>...</td>\n    </tr>\n    <tr>\n      <th>94</th>\n      <td>6.021502e+09</td>\n      <td>20141223T000000</td>\n      <td>700000.0</td>\n      <td>3.0</td>\n      <td>1.50</td>\n      <td>1580.0</td>\n      <td>5000.0</td>\n      <td>1.0</td>\n    </tr>\n    <tr>\n      <th>95</th>\n      <td>1.483301e+09</td>\n      <td>20140908T000000</td>\n      <td>905000.0</td>\n      <td>4.0</td>\n      <td>2.50</td>\n      <td>3300.0</td>\n      <td>10250.0</td>\n      <td>1.0</td>\n    </tr>\n    <tr>\n      <th>96</th>\n      <td>3.422049e+09</td>\n      <td>20150330T000000</td>\n      <td>247500.0</td>\n      <td>3.0</td>\n      <td>1.75</td>\n      <td>1960.0</td>\n      <td>15681.0</td>\n      <td>1.0</td>\n    </tr>\n    <tr>\n      <th>97</th>\n      <td>1.099611e+09</td>\n      <td>20140912T000000</td>\n      <td>199000.0</td>\n      <td>4.0</td>\n      <td>1.50</td>\n      <td>1160.0</td>\n      <td>6400.0</td>\n      <td>1.0</td>\n    </tr>\n    <tr>\n      <th>98</th>\n      <td>7.220791e+08</td>\n      <td>20140711T000000</td>\n      <td>314000.0</td>\n      <td>3.0</td>\n      <td>1.75</td>\n      <td>1810.0</td>\n      <td>41800.0</td>\n      <td>1.0</td>\n    </tr>\n  </tbody>\n</table>\n<p>99 rows × 8 columns</p>\n</div>"
     },
     "execution_count": 30,
     "metadata": {},
     "output_type": "execute_result"
    }
   ],
   "source": [
    "df"
   ]
  },
  {
   "cell_type": "code",
   "execution_count": 31,
   "metadata": {
    "pycharm": {
     "name": "#%%\n"
    }
   },
   "outputs": [
    {
     "data": {
      "text/plain": "   no_of_bedrooms  no_of_bathrooms  sqft_living  sqft_lot  no_of_floors  \\\n5             4.0              4.5       5420.0  101930.0           1.0   \n\n       price  \n5  1230000.0  ",
      "text/html": "<div>\n<style scoped>\n    .dataframe tbody tr th:only-of-type {\n        vertical-align: middle;\n    }\n\n    .dataframe tbody tr th {\n        vertical-align: top;\n    }\n\n    .dataframe thead th {\n        text-align: right;\n    }\n</style>\n<table border=\"1\" class=\"dataframe\">\n  <thead>\n    <tr style=\"text-align: right;\">\n      <th></th>\n      <th>no_of_bedrooms</th>\n      <th>no_of_bathrooms</th>\n      <th>sqft_living</th>\n      <th>sqft_lot</th>\n      <th>no_of_floors</th>\n      <th>price</th>\n    </tr>\n  </thead>\n  <tbody>\n    <tr>\n      <th>5</th>\n      <td>4.0</td>\n      <td>4.5</td>\n      <td>5420.0</td>\n      <td>101930.0</td>\n      <td>1.0</td>\n      <td>1230000.0</td>\n    </tr>\n  </tbody>\n</table>\n</div>"
     },
     "execution_count": 31,
     "metadata": {},
     "output_type": "execute_result"
    }
   ],
   "source": [
    "df[df['sqft_lot']==df['sqft_lot'].max()][['no_of_bedrooms','no_of_bathrooms','sqft_living','sqft_lot','no_of_floors','price']]"
   ]
  },
  {
   "cell_type": "code",
   "execution_count": 32,
   "metadata": {
    "pycharm": {
     "name": "#%%\n"
    }
   },
   "outputs": [
    {
     "data": {
      "text/plain": "    no_of_bedrooms  no_of_bathrooms  sqft_living  sqft_lot  no_of_floors  \\\n31             2.0             1.50       1190.0    1265.0           3.0   \n63             3.0             1.75       1540.0    1044.0           3.0   \n\n       price  \n31  280000.0  \n63  549000.0  ",
      "text/html": "<div>\n<style scoped>\n    .dataframe tbody tr th:only-of-type {\n        vertical-align: middle;\n    }\n\n    .dataframe tbody tr th {\n        vertical-align: top;\n    }\n\n    .dataframe thead th {\n        text-align: right;\n    }\n</style>\n<table border=\"1\" class=\"dataframe\">\n  <thead>\n    <tr style=\"text-align: right;\">\n      <th></th>\n      <th>no_of_bedrooms</th>\n      <th>no_of_bathrooms</th>\n      <th>sqft_living</th>\n      <th>sqft_lot</th>\n      <th>no_of_floors</th>\n      <th>price</th>\n    </tr>\n  </thead>\n  <tbody>\n    <tr>\n      <th>31</th>\n      <td>2.0</td>\n      <td>1.50</td>\n      <td>1190.0</td>\n      <td>1265.0</td>\n      <td>3.0</td>\n      <td>280000.0</td>\n    </tr>\n    <tr>\n      <th>63</th>\n      <td>3.0</td>\n      <td>1.75</td>\n      <td>1540.0</td>\n      <td>1044.0</td>\n      <td>3.0</td>\n      <td>549000.0</td>\n    </tr>\n  </tbody>\n</table>\n</div>"
     },
     "execution_count": 32,
     "metadata": {},
     "output_type": "execute_result"
    }
   ],
   "source": [
    "df[df['no_of_floors']==df['no_of_floors'].max()][['no_of_bedrooms','no_of_bathrooms','sqft_living','sqft_lot','no_of_floors','price']]"
   ]
  },
  {
   "cell_type": "code",
   "execution_count": 33,
   "metadata": {
    "pycharm": {
     "name": "#%%\n"
    }
   },
   "outputs": [
    {
     "data": {
      "text/plain": "    no_of_bedrooms  no_of_bathrooms  sqft_living  sqft_lot  no_of_floors  \\\n14             5.0             2.00       1810.0    4850.0           1.5   \n22             5.0             2.50       2270.0    6300.0           2.0   \n42             5.0             2.75       3595.0    5639.0           2.0   \n51             5.0             2.50       3150.0    9134.0           1.0   \n54             5.0             2.25       2730.0    6000.0           1.5   \n58             5.0             3.25       3250.0   14342.0           2.0   \n69             5.0             2.25       3200.0   20158.0           1.0   \n70             5.0             3.25       4770.0   50094.0           1.0   \n86             5.0             2.25       2660.0    8400.0           1.5   \n91             5.0             2.75       3520.0    6353.0           2.0   \n\n        price  \n14   530000.0  \n22   285000.0  \n42   861990.0  \n51   345000.0  \n54   920000.0  \n58   951000.0  \n69  1330000.0  \n70  1040000.0  \n86   305000.0  \n91  1100000.0  ",
      "text/html": "<div>\n<style scoped>\n    .dataframe tbody tr th:only-of-type {\n        vertical-align: middle;\n    }\n\n    .dataframe tbody tr th {\n        vertical-align: top;\n    }\n\n    .dataframe thead th {\n        text-align: right;\n    }\n</style>\n<table border=\"1\" class=\"dataframe\">\n  <thead>\n    <tr style=\"text-align: right;\">\n      <th></th>\n      <th>no_of_bedrooms</th>\n      <th>no_of_bathrooms</th>\n      <th>sqft_living</th>\n      <th>sqft_lot</th>\n      <th>no_of_floors</th>\n      <th>price</th>\n    </tr>\n  </thead>\n  <tbody>\n    <tr>\n      <th>14</th>\n      <td>5.0</td>\n      <td>2.00</td>\n      <td>1810.0</td>\n      <td>4850.0</td>\n      <td>1.5</td>\n      <td>530000.0</td>\n    </tr>\n    <tr>\n      <th>22</th>\n      <td>5.0</td>\n      <td>2.50</td>\n      <td>2270.0</td>\n      <td>6300.0</td>\n      <td>2.0</td>\n      <td>285000.0</td>\n    </tr>\n    <tr>\n      <th>42</th>\n      <td>5.0</td>\n      <td>2.75</td>\n      <td>3595.0</td>\n      <td>5639.0</td>\n      <td>2.0</td>\n      <td>861990.0</td>\n    </tr>\n    <tr>\n      <th>51</th>\n      <td>5.0</td>\n      <td>2.50</td>\n      <td>3150.0</td>\n      <td>9134.0</td>\n      <td>1.0</td>\n      <td>345000.0</td>\n    </tr>\n    <tr>\n      <th>54</th>\n      <td>5.0</td>\n      <td>2.25</td>\n      <td>2730.0</td>\n      <td>6000.0</td>\n      <td>1.5</td>\n      <td>920000.0</td>\n    </tr>\n    <tr>\n      <th>58</th>\n      <td>5.0</td>\n      <td>3.25</td>\n      <td>3250.0</td>\n      <td>14342.0</td>\n      <td>2.0</td>\n      <td>951000.0</td>\n    </tr>\n    <tr>\n      <th>69</th>\n      <td>5.0</td>\n      <td>2.25</td>\n      <td>3200.0</td>\n      <td>20158.0</td>\n      <td>1.0</td>\n      <td>1330000.0</td>\n    </tr>\n    <tr>\n      <th>70</th>\n      <td>5.0</td>\n      <td>3.25</td>\n      <td>4770.0</td>\n      <td>50094.0</td>\n      <td>1.0</td>\n      <td>1040000.0</td>\n    </tr>\n    <tr>\n      <th>86</th>\n      <td>5.0</td>\n      <td>2.25</td>\n      <td>2660.0</td>\n      <td>8400.0</td>\n      <td>1.5</td>\n      <td>305000.0</td>\n    </tr>\n    <tr>\n      <th>91</th>\n      <td>5.0</td>\n      <td>2.75</td>\n      <td>3520.0</td>\n      <td>6353.0</td>\n      <td>2.0</td>\n      <td>1100000.0</td>\n    </tr>\n  </tbody>\n</table>\n</div>"
     },
     "execution_count": 33,
     "metadata": {},
     "output_type": "execute_result"
    }
   ],
   "source": [
    "df[df['no_of_bedrooms']==df['no_of_bedrooms'].max()][['no_of_bedrooms','no_of_bathrooms','sqft_living','sqft_lot','no_of_floors','price']]"
   ]
  },
  {
   "cell_type": "code",
   "execution_count": 34,
   "metadata": {
    "pycharm": {
     "name": "#%%\n"
    }
   },
   "outputs": [],
   "source": [
    "X = df[['no_of_bedrooms','no_of_bathrooms','sqft_living','sqft_lot','no_of_floors']]\n",
    "y = df[['price']]"
   ]
  },
  {
   "cell_type": "code",
   "execution_count": 35,
   "metadata": {
    "pycharm": {
     "name": "#%%\n"
    }
   },
   "outputs": [
    {
     "data": {
      "text/plain": "((74, 5), (25, 5), (74, 1), (25, 1))"
     },
     "execution_count": 35,
     "metadata": {},
     "output_type": "execute_result"
    }
   ],
   "source": [
    "X_train, X_test, y_train, y_test = train_test_split(X, y, test_size=0.25, random_state=56)\n",
    "X_train.shape, X_test.shape, y_train.shape, y_test.shape"
   ]
  },
  {
   "cell_type": "code",
   "execution_count": 36,
   "metadata": {
    "pycharm": {
     "name": "#%%\n"
    }
   },
   "outputs": [
    {
     "data": {
      "text/plain": "id                 74\ndate               74\nprice              74\nno_of_bedrooms     74\nno_of_bathrooms    74\nsqft_living        74\nsqft_lot           74\nno_of_floors       74\ndtype: int64"
     },
     "execution_count": 36,
     "metadata": {},
     "output_type": "execute_result"
    }
   ],
   "source": [
    "df1 = df.copy()\n",
    "train = df1.sample(frac=0.75, random_state=56)\n",
    "test = df1.drop(train.index)\n",
    "train.count()"
   ]
  },
  {
   "cell_type": "code",
   "execution_count": 37,
   "metadata": {
    "pycharm": {
     "name": "#%%\n"
    }
   },
   "outputs": [
    {
     "data": {
      "text/plain": "id                 25\ndate               25\nprice              25\nno_of_bedrooms     25\nno_of_bathrooms    25\nsqft_living        25\nsqft_lot           25\nno_of_floors       25\ndtype: int64"
     },
     "execution_count": 37,
     "metadata": {},
     "output_type": "execute_result"
    }
   ],
   "source": [
    "test.count()"
   ]
  }
 ],
 "metadata": {
  "kernelspec": {
   "display_name": "Python 3",
   "language": "python",
   "name": "python3"
  },
  "language_info": {
   "codemirror_mode": {
    "name": "ipython",
    "version": 3
   },
   "file_extension": ".py",
   "mimetype": "text/x-python",
   "name": "python",
   "nbconvert_exporter": "python",
   "pygments_lexer": "ipython3",
   "version": "3.8.3"
  }
 },
 "nbformat": 4,
 "nbformat_minor": 1
}